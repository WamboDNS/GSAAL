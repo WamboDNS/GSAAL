{
 "cells": [
  {
   "cell_type": "code",
   "execution_count": null,
   "metadata": {},
   "outputs": [],
   "source": [
    "import tensorflow as tf\n",
    "gpus = tf.config.list_physical_devices('GPU')\n",
    "\n",
    "import numpy as np\n",
    "import matplotlib.pyplot as plt\n",
    "import pandas as pd\n",
    "from pyod.models.abod import ABOD\n",
    "from pyod.models.iforest import IForest\n",
    "from pyod.models.knn import KNN\n",
    "from tensorflow import keras\n",
    "import os\n",
    "import matplotlib.ticker as mticker"
   ]
  },
  {
   "cell_type": "code",
   "execution_count": null,
   "metadata": {},
   "outputs": [],
   "source": [
    "### ADJUST PATH HERE\n",
    "name = \"banana\"\n",
    "X = pd.read_csv(f\"./experiments/synthetic_data/{name}.csv\", header=None)\n",
    "X_full = pd.read_csv(f\"./experiments/synthetic_data/data_with_noise/{name}.csv\", header=None)\n",
    "X_norm = X\n",
    "with tf.device('/device:GPU:0'):\n",
    "    model = tf.keras.models.load_model(f\"trained_models/{name}/disc_0.keras\")"
   ]
  },
  {
   "cell_type": "code",
   "execution_count": null,
   "metadata": {},
   "outputs": [],
   "source": [
    "plt.scatter(x=X[0], y=X[1])"
   ]
  },
  {
   "cell_type": "code",
   "execution_count": null,
   "metadata": {},
   "outputs": [],
   "source": [
    "x_min, x_max = X.min()[0] - 0.05,  X.max()[0] + 0.05\n",
    "y_min, y_max = X.min()[1] - 0.05, X.max()[1] + 0.05\n",
    "xx, yy = np.meshgrid(np.linspace(x_min, x_max, 200), np.linspace(y_min, y_max, 200))\n",
    "output = [xx.ravel().tolist(),yy.ravel().tolist()]\n",
    "keras.utils.set_random_seed(777) #seeds numpy, random and tf all at once\n",
    "os.environ[\"PYTHONHASSEED\"] = str(777)\n",
    "for i in range(58):\n",
    "    output.append((0*np.ones(len(output[0]))).tolist())\n",
    "    #output.append(np.random.normal(0,1,len(output[0])).tolist())\n",
    "output"
   ]
  },
  {
   "cell_type": "code",
   "execution_count": null,
   "metadata": {},
   "outputs": [],
   "source": [
    "import ast\n",
    "subspaces = pd.read_csv(\"subspaces.txt\", delimiter=\";\", header=None)\n",
    "for i in range(len(subspaces[0])):\n",
    "    subspaces[0][i] = ast.literal_eval(subspaces[0][i])"
   ]
  },
  {
   "cell_type": "code",
   "execution_count": null,
   "metadata": {},
   "outputs": [],
   "source": [
    "fegan = []\n",
    "with tf.device('/device:GPU:0'):\n",
    "    for i in range(14):\n",
    "        fegan.append(tf.keras.models.load_model(f\"trained_models/{name}/disc_{i}.keras\"))"
   ]
  },
  {
   "cell_type": "code",
   "execution_count": null,
   "metadata": {},
   "outputs": [],
   "source": [
    "train = pd.DataFrame(output).T\n",
    "with tf.device('/device:GPU:0'):\n",
    "    Z = fegan[0].predict(train.iloc[:,subspaces[0][0]])\n",
    "    for i in range(1,14):\n",
    "        Z +=  fegan[i].predict(train.iloc[:, subspaces[0][i]]) #Probability of being an inlier \n",
    "    Z /= 14\n",
    "    Z"
   ]
  },
  {
   "cell_type": "code",
   "execution_count": null,
   "metadata": {},
   "outputs": [],
   "source": [
    "Z = Z.reshape(xx.shape)\n",
    "Z_final = 1-Z\n",
    "Z_final = (Z_final-np.min(Z_final))/(np.max(Z_final)-np.min(Z_final))\n",
    "hfont = {'fontname':'Times New Roman'}\n",
    "plt.contourf(xx, yy, Z_final, cmap=\"YlGnBu_r\")\n",
    "plt.colorbar(label = \"Probability of being an outlier\")\n",
    "plt.contour(xx,yy,Z_final,levels=[0.9], linestyles = \"dashed\", cmap = \"summer\")\n",
    "plt.scatter(X.iloc()[:, 0], X.iloc()[:, 1], s=10,color='black')\n",
    "plt.savefig(f\"./experiments/heatmaps/{name}/GSAAL_boundaries.pdf\", bbox_inches='tight')\n",
    "plt.show()"
   ]
  },
  {
   "cell_type": "code",
   "execution_count": null,
   "metadata": {},
   "outputs": [],
   "source": [
    "from pyod.models.ocsvm import OCSVM\n",
    "from pyod.models.gmm import GMM\n",
    "from pyod.models.lof import LOF\n",
    "#import ast\n",
    "#subspaces = pd.read_csv(\"subspaces.txt\", delimiter=\";\", header=None)\n",
    "#for i in range(len(subspaces[0])):\n",
    "#    subspaces[0][i] = ast.literal_eval(subspaces[0][i])\n",
    "#fegan = []\n",
    "#with tf.device('/device:GPU:1'):\n",
    "#    for i in range(14):\n",
    "#        fegan.append(tf.keras.models.load_model(f\"trained_models/{name}/disc_{i}.keras\"))\n",
    "#train = pd.DataFrame(output).T\n",
    "#with tf.device('/device:GPU:1'):\n",
    " #   Z = fegan[0].predict(train.iloc[:,subspaces[0][0]])\n",
    "#    for i in range(1,14):\n",
    "#        Z +=  fegan[i].predict(train.iloc[:, subspaces[0][i]]) #Probability of being an inlier \n",
    "#    Z /= 14\n",
    "#    Z\n",
    "#Z = Z.reshape(xx.shape)\n",
    "#Z_final = Z\n",
    "#Z_final = (Z_final-np.min(Z_final))/(np.max(Z_final)-np.min(Z_final))\n",
    "\n",
    "ocsvm = OCSVM()\n",
    "ocsvm.fit(X_full)\n",
    "Z_ocsvm = ocsvm.decision_function(train)\n",
    "Z_ocsvm = Z_ocsvm.reshape(xx.shape)\n",
    "Z_ocsvm = (Z_ocsvm-np.min(Z_ocsvm))/(np.max(Z_ocsvm)-np.min(Z_ocsvm))\n",
    "gmm = GMM()\n",
    "gmm.fit(X_full)\n",
    "Z_gmm = gmm.decision_function(train)\n",
    "Z_gmm = Z_gmm.reshape(xx.shape)\n",
    "Z_gmm = (Z_gmm-np.min(Z_gmm))/(np.max(Z_gmm)-np.min(Z_gmm))\n",
    "iforest = IForest()\n",
    "iforest.fit(X_full) \n",
    "Z_iforest = iforest.decision_function(train)\n",
    "Z_iforest = Z_iforest.reshape(xx.shape)\n",
    "Z_iforest = (Z_iforest-np.min(Z_iforest))/(np.max(Z_iforest)-np.min(Z_iforest))\n",
    "abod = ABOD()\n",
    "abod.fit(X_full) \n",
    "Z_abod = abod.decision_function(train)\n",
    "Z_abod = Z_abod.reshape(xx.shape)\n",
    "Z_abod = (Z_abod-np.min(Z_abod))/(np.max(Z_abod)-np.min(Z_abod))\n",
    "knn = KNN()\n",
    "knn.fit(X_full) \n",
    "Z_knn = knn.decision_function(train)\n",
    "Z_knn = Z_knn.reshape(xx.shape)\n",
    "Z_knn = (Z_knn-np.min(Z_knn))/(np.max(Z_knn)-np.min(Z_knn))\n",
    "lof = LOF()\n",
    "lof.fit(X_full)\n",
    "Z_lof = lof.decision_function(train)\n",
    "Z_lof = Z_lof.reshape(xx.shape)\n",
    "Z_lof = (Z_lof-np.min(Z_lof))/(np.max(Z_lof)-np.min(Z_lof))"
   ]
  },
  {
   "cell_type": "code",
   "execution_count": null,
   "metadata": {},
   "outputs": [],
   "source": [
    "from pyod.models.mo_gaal import MO_GAAL\n",
    "\n",
    "mo_gaal = MO_GAAL()\n",
    "with tf.device('/device:GPU:0'):\n",
    "    mo_gaal.fit(X_full)\n",
    "\n",
    "Z_mo_gaal = mo_gaal.decision_function(train)\n",
    "Z_mo_gaal = Z_mo_gaal.reshape(xx.shape)\n",
    "Z_mo_gaal = (Z_mo_gaal-np.min(Z_mo_gaal))/(np.max(Z_mo_gaal)-np.min(Z_mo_gaal))"
   ]
  },
  {
   "cell_type": "code",
   "execution_count": null,
   "metadata": {},
   "outputs": [],
   "source": [
    "plt.rcParams['font.family'] = ['serif']\n",
    "plt.rcParams['font.serif'] = ['Times New Roman']\n",
    "fig, (ax1, ax2, ax3, ax4, ax5, ax6, ax7, ax8) = plt.subplots(1, 8, figsize=(20,2.5))\n",
    "ax1.contourf(xx, yy, 1-Z_abod, cmap=\"YlGnBu_r\")\n",
    "ax1.contour(xx,yy,1-Z_abod,levels=[0.9], linestyles = \"dashed\", cmap = \"summer\", linewidths=3)\n",
    "ax1.scatter(X.iloc()[:, 0], X.iloc()[:, 1], s=10,color='black')\n",
    "ax2.contourf(xx, yy, Z_knn, cmap=\"YlGnBu_r\")\n",
    "ax2.contour(xx,yy,Z_knn,levels=[0.9], linestyles = \"dashed\", cmap = \"summer\", linewidths=3)\n",
    "ax2.scatter(X.iloc()[:, 0], X.iloc()[:, 1], s=10,color='black')\n",
    "ax3.contourf(xx, yy, Z_iforest, cmap=\"YlGnBu_r\")\n",
    "ax3.contour(xx,yy,Z_iforest,levels=[0.9], linestyles = \"dashed\", cmap = \"summer\", linewidths=3)\n",
    "ax3.scatter(X.iloc()[:, 0], X.iloc()[:, 1], s=10,color='black')\n",
    "im = ax4.contourf(xx, yy, Z_final, cmap=\"YlGnBu_r\")\n",
    "ax4.contour(xx,yy,Z_final,levels=[0.9], linestyles = \"dashed\", cmap = \"summer\", linewidths=3)\n",
    "ax4.scatter(X.iloc()[:, 0], X.iloc()[:, 1], s=10,color='black')\n",
    "ax5.contourf(xx, yy, Z_lof, cmap=\"YlGnBu_r\")\n",
    "ax5.contour(xx,yy,Z_lof,levels=[0.9], linestyles = \"dashed\", cmap = \"summer\", linewidths=3)\n",
    "ax5.scatter(X.iloc()[:, 0], X.iloc()[:, 1], s=10,color='black')\n",
    "ax6.contourf(xx, yy, Z_gmm, cmap=\"YlGnBu_r\")\n",
    "ax6.contour(xx,yy,Z_gmm,levels=[0.9], linestyles = \"dashed\", cmap = \"summer\", linewidths=3)\n",
    "ax6.scatter(X.iloc()[:, 0], X.iloc()[:, 1], s=10,color='black')\n",
    "ax7.contourf(xx, yy, Z_ocsvm, cmap=\"YlGnBu_r\")\n",
    "ax7.contour(xx,yy,Z_ocsvm,levels=[0.9], linestyles = \"dashed\", cmap = \"summer\", linewidths=3)\n",
    "ax7.scatter(X.iloc()[:, 0], X.iloc()[:, 1], s=10,color='black')\n",
    "ax8.contourf(xx, yy, 1-Z_mo_gaal, cmap=\"YlGnBu_r\")\n",
    "ax8.contour(xx,yy,1-Z_mo_gaal,levels=[0.9], linestyles = \"dashed\", cmap = \"summer\", linewidths=3)\n",
    "ax8.scatter(X.iloc()[:, 0], X.iloc()[:, 1], s=10,color='black')\n",
    "ax1.set_title(\"ABOD\", fontsize=18)\n",
    "ax2.set_title(\"KNN\", fontsize=18)\n",
    "ax3.set_title(\"IForest\", fontsize=18)\n",
    "ax4.set_title(r\"GSAAL\", fontsize=18, weight='bold')\n",
    "ax5.set_title(\"LOF\", fontsize=18)\n",
    "ax6.set_title(\"GMM\", fontsize=18)\n",
    "ax7.set_title(\"OCSVM\", fontsize=18)\n",
    "ax8.set_title(\"MO-GAAL\", fontsize=18)\n",
    "\n",
    "ax1.tick_params(axis='both', which = 'both', bottom = False, top = False, labelbottom = False, right = False, left = False, labelleft = False)\n",
    "ax2.tick_params(axis='both', which = 'both', bottom = False, top = False, labelbottom = False, right = False, left = False, labelleft = False)\n",
    "ax3.tick_params(axis='both', which = 'both', bottom = False, top = False, labelbottom = False, right = False, left = False, labelleft = False)\n",
    "ax4.tick_params(axis='both', which = 'both', bottom = False, top = False, labelbottom = False, right = False, left = False, labelleft = False)\n",
    "fig.subplots_adjust(right=0.83)\n",
    "cbar_ax = fig.add_axes([0.85, 0.15, 0.01, 0.7])\n",
    "cbar = fig.colorbar(im,cax = cbar_ax)\n",
    "cbar.set_label(label = \"Prob. of outlier\",fontsize = 18)\n",
    "cbar.ax.tick_params(axis='both', which = 'both', bottom = False, top = False, labelbottom = False, right = False, left = False, labelleft = False)\n",
    "cbar.ax.tick_params(labelsize=12)\n",
    "plt.savefig(f\"./experiments/heatmaps/{name}/{name}_comparison.png\",dpi=1200, bbox_inches='tight')\n",
    "plt.show()\n",
    "#ABOD - KNN - IForest - GSAAL"
   ]
  }
 ],
 "metadata": {
  "kernelspec": {
   "display_name": "tf",
   "language": "python",
   "name": "python3"
  },
  "language_info": {
   "codemirror_mode": {
    "name": "ipython",
    "version": 3
   },
   "file_extension": ".py",
   "mimetype": "text/x-python",
   "name": "python",
   "nbconvert_exporter": "python",
   "pygments_lexer": "ipython3",
   "version": "3.11.5"
  }
 },
 "nbformat": 4,
 "nbformat_minor": 2
}
